{
 "cells": [
  {
   "cell_type": "code",
   "execution_count": 2,
   "metadata": {},
   "outputs": [
    {
     "data": {
      "text/html": [
       "<div>\n",
       "<style scoped>\n",
       "    .dataframe tbody tr th:only-of-type {\n",
       "        vertical-align: middle;\n",
       "    }\n",
       "\n",
       "    .dataframe tbody tr th {\n",
       "        vertical-align: top;\n",
       "    }\n",
       "\n",
       "    .dataframe thead th {\n",
       "        text-align: right;\n",
       "    }\n",
       "</style>\n",
       "<table border=\"1\" class=\"dataframe\">\n",
       "  <thead>\n",
       "    <tr style=\"text-align: right;\">\n",
       "      <th></th>\n",
       "      <th>A</th>\n",
       "      <th>B</th>\n",
       "      <th>C</th>\n",
       "      <th>D</th>\n",
       "    </tr>\n",
       "  </thead>\n",
       "  <tbody>\n",
       "    <tr>\n",
       "      <th>2018-01-01</th>\n",
       "      <td>0</td>\n",
       "      <td>1</td>\n",
       "      <td>2</td>\n",
       "      <td>3</td>\n",
       "    </tr>\n",
       "    <tr>\n",
       "      <th>2018-01-02</th>\n",
       "      <td>4</td>\n",
       "      <td>5</td>\n",
       "      <td>6</td>\n",
       "      <td>7</td>\n",
       "    </tr>\n",
       "    <tr>\n",
       "      <th>2018-01-03</th>\n",
       "      <td>8</td>\n",
       "      <td>9</td>\n",
       "      <td>10</td>\n",
       "      <td>11</td>\n",
       "    </tr>\n",
       "    <tr>\n",
       "      <th>2018-01-04</th>\n",
       "      <td>12</td>\n",
       "      <td>13</td>\n",
       "      <td>14</td>\n",
       "      <td>15</td>\n",
       "    </tr>\n",
       "    <tr>\n",
       "      <th>2018-01-05</th>\n",
       "      <td>16</td>\n",
       "      <td>17</td>\n",
       "      <td>18</td>\n",
       "      <td>19</td>\n",
       "    </tr>\n",
       "    <tr>\n",
       "      <th>2018-01-06</th>\n",
       "      <td>20</td>\n",
       "      <td>21</td>\n",
       "      <td>22</td>\n",
       "      <td>23</td>\n",
       "    </tr>\n",
       "  </tbody>\n",
       "</table>\n",
       "</div>"
      ],
      "text/plain": [
       "             A   B   C   D\n",
       "2018-01-01   0   1   2   3\n",
       "2018-01-02   4   5   6   7\n",
       "2018-01-03   8   9  10  11\n",
       "2018-01-04  12  13  14  15\n",
       "2018-01-05  16  17  18  19\n",
       "2018-01-06  20  21  22  23"
      ]
     },
     "execution_count": 2,
     "metadata": {},
     "output_type": "execute_result"
    }
   ],
   "source": [
    "import pandas as pd\n",
    "import numpy as np\n",
    "\n",
    "dates = pd.date_range('20180101', periods=6)\n",
    "df = pd.DataFrame(np.arange(24).reshape(6,4), index=dates, columns=['A', 'B', 'C', 'D'])\n",
    "\n",
    "df"
   ]
  },
  {
   "cell_type": "code",
   "execution_count": 3,
   "metadata": {},
   "outputs": [
    {
     "name": "stdout",
     "output_type": "stream",
     "text": [
      "2018-01-01     0\n",
      "2018-01-02     4\n",
      "2018-01-03     8\n",
      "2018-01-04    12\n",
      "2018-01-05    16\n",
      "2018-01-06    20\n",
      "Freq: D, Name: A, dtype: int32\n"
     ]
    }
   ],
   "source": [
    "print(df['A'])"
   ]
  },
  {
   "cell_type": "code",
   "execution_count": 4,
   "metadata": {},
   "outputs": [
    {
     "name": "stdout",
     "output_type": "stream",
     "text": [
      "2018-01-01     0\n",
      "2018-01-02     4\n",
      "2018-01-03     8\n",
      "2018-01-04    12\n",
      "2018-01-05    16\n",
      "2018-01-06    20\n",
      "Freq: D, Name: A, dtype: int32\n"
     ]
    }
   ],
   "source": [
    "print(df.A)"
   ]
  },
  {
   "cell_type": "code",
   "execution_count": 5,
   "metadata": {},
   "outputs": [
    {
     "name": "stdout",
     "output_type": "stream",
     "text": [
      "            A  B   C   D\n",
      "2018-01-01  0  1   2   3\n",
      "2018-01-02  4  5   6   7\n",
      "2018-01-03  8  9  10  11\n"
     ]
    }
   ],
   "source": [
    "print(df[0:3])    # slice dataframe"
   ]
  },
  {
   "cell_type": "code",
   "execution_count": 7,
   "metadata": {},
   "outputs": [
    {
     "name": "stdout",
     "output_type": "stream",
     "text": [
      "            A  B   C   D\n",
      "2018-01-01  0  1   2   3\n",
      "2018-01-02  4  5   6   7\n",
      "2018-01-03  8  9  10  11\n"
     ]
    }
   ],
   "source": [
    "print(df['20180101':'20180103'])"
   ]
  },
  {
   "cell_type": "code",
   "execution_count": 11,
   "metadata": {},
   "outputs": [
    {
     "name": "stdout",
     "output_type": "stream",
     "text": [
      "A    0\n",
      "B    1\n",
      "C    2\n",
      "D    3\n",
      "Name: 2018-01-01 00:00:00, dtype: int32\n"
     ]
    }
   ],
   "source": [
    "# select by label: loc\n",
    "print(df.loc['20180101'])     "
   ]
  },
  {
   "cell_type": "code",
   "execution_count": 9,
   "metadata": {},
   "outputs": [
    {
     "name": "stdout",
     "output_type": "stream",
     "text": [
      "             A   B\n",
      "2018-01-01   0   1\n",
      "2018-01-02   4   5\n",
      "2018-01-03   8   9\n",
      "2018-01-04  12  13\n",
      "2018-01-05  16  17\n",
      "2018-01-06  20  21\n"
     ]
    }
   ],
   "source": [
    "print(df.loc[:,['A', 'B']])"
   ]
  },
  {
   "cell_type": "code",
   "execution_count": 10,
   "metadata": {},
   "outputs": [
    {
     "name": "stdout",
     "output_type": "stream",
     "text": [
      "             A   B\n",
      "2018-01-03   8   9\n",
      "2018-01-04  12  13\n",
      "2018-01-05  16  17\n",
      "2018-01-06  20  21\n"
     ]
    }
   ],
   "source": [
    "print(df.loc['20180103':,['A', 'B']])"
   ]
  },
  {
   "cell_type": "code",
   "execution_count": 12,
   "metadata": {},
   "outputs": [
    {
     "name": "stdout",
     "output_type": "stream",
     "text": [
      "13\n"
     ]
    }
   ],
   "source": [
    "# select by position: iloc\n",
    "print(df.iloc[3, 1])"
   ]
  },
  {
   "cell_type": "code",
   "execution_count": 15,
   "metadata": {},
   "outputs": [
    {
     "name": "stdout",
     "output_type": "stream",
     "text": [
      "             B   C\n",
      "2018-01-04  13  14\n",
      "2018-01-05  17  18\n"
     ]
    }
   ],
   "source": [
    "print(df.iloc[3:5, 1:3])"
   ]
  },
  {
   "cell_type": "code",
   "execution_count": 16,
   "metadata": {},
   "outputs": [
    {
     "name": "stdout",
     "output_type": "stream",
     "text": [
      "             B   C\n",
      "2018-01-02   5   6\n",
      "2018-01-04  13  14\n",
      "2018-01-06  21  22\n"
     ]
    }
   ],
   "source": [
    "print(df.iloc[[1, 3, 5], 1:3])"
   ]
  },
  {
   "cell_type": "code",
   "execution_count": 17,
   "metadata": {},
   "outputs": [
    {
     "name": "stdout",
     "output_type": "stream",
     "text": [
      "            A   C\n",
      "2018-01-01  0   2\n",
      "2018-01-02  4   6\n",
      "2018-01-03  8  10\n"
     ]
    },
    {
     "name": "stderr",
     "output_type": "stream",
     "text": [
      "c:\\users\\cpeb\\desktop\\myenv\\lib\\site-packages\\ipykernel_launcher.py:2: DeprecationWarning: \n",
      ".ix is deprecated. Please use\n",
      ".loc for label based indexing or\n",
      ".iloc for positional indexing\n",
      "\n",
      "See the documentation here:\n",
      "http://pandas.pydata.org/pandas-docs/stable/indexing.html#ix-indexer-is-deprecated\n",
      "  \n"
     ]
    }
   ],
   "source": [
    "# mixed selection: ix \n",
    "print(df.ix[:3, ['A', 'C']])"
   ]
  },
  {
   "cell_type": "code",
   "execution_count": 19,
   "metadata": {},
   "outputs": [
    {
     "name": "stdout",
     "output_type": "stream",
     "text": [
      "             A   B   C   D\n",
      "2018-01-01   0   1   2   3\n",
      "2018-01-02   4   5   6   7\n",
      "2018-01-03   8   9  10  11\n",
      "2018-01-04  12  13  14  15\n",
      "2018-01-05  16  17  18  19\n",
      "2018-01-06  20  21  22  23\n",
      "             A   B   C   D\n",
      "2018-01-04  12  13  14  15\n",
      "2018-01-05  16  17  18  19\n",
      "2018-01-06  20  21  22  23\n"
     ]
    }
   ],
   "source": [
    "# Boolean indexing\n",
    "print(df)\n",
    "print(df[df.A > 8])"
   ]
  }
 ],
 "metadata": {
  "kernelspec": {
   "display_name": "Python 3",
   "language": "python",
   "name": "python3"
  },
  "language_info": {
   "codemirror_mode": {
    "name": "ipython",
    "version": 3
   },
   "file_extension": ".py",
   "mimetype": "text/x-python",
   "name": "python",
   "nbconvert_exporter": "python",
   "pygments_lexer": "ipython3",
   "version": "3.6.1"
  }
 },
 "nbformat": 4,
 "nbformat_minor": 2
}
