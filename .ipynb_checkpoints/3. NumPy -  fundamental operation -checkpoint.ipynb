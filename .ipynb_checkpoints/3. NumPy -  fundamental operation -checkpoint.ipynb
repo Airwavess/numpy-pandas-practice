{
 "cells": [
  {
   "cell_type": "markdown",
   "metadata": {},
   "source": [
    "# 3.NumPy 基本運算\n",
    "\n",
    "我們先建立兩個 array:"
   ]
  },
  {
   "cell_type": "code",
   "execution_count": 1,
   "metadata": {},
   "outputs": [
    {
     "name": "stdout",
     "output_type": "stream",
     "text": [
      "a: [  3   4 100]\n",
      "b: [0 1 2]\n"
     ]
    }
   ],
   "source": [
    "import numpy as np\n",
    "\n",
    "a = np.array([3, 4, 100])\n",
    "b = np.arange(3)\n",
    "print('a:', a)\n",
    "print('b:', b)"
   ]
  },
  {
   "cell_type": "markdown",
   "metadata": {},
   "source": [
    "NumPy array 可以直接進行基本運算，包括 `+`、`-`、`*`\b、`/`、`%`、`**`："
   ]
  },
  {
   "cell_type": "code",
   "execution_count": 2,
   "metadata": {},
   "outputs": [
    {
     "name": "stdout",
     "output_type": "stream",
     "text": [
      "[ 3  3 98]\n"
     ]
    }
   ],
   "source": [
    "print(a - b)"
   ]
  },
  {
   "cell_type": "code",
   "execution_count": 3,
   "metadata": {},
   "outputs": [
    {
     "name": "stdout",
     "output_type": "stream",
     "text": [
      "[    9    16 10000]\n"
     ]
    }
   ],
   "source": [
    "print(a**2)"
   ]
  },
  {
   "cell_type": "markdown",
   "metadata": {},
   "source": [
    "NumPy array 也可以進行邏輯運算:"
   ]
  },
  {
   "cell_type": "code",
   "execution_count": 4,
   "metadata": {},
   "outputs": [
    {
     "name": "stdout",
     "output_type": "stream",
     "text": [
      "[ True  True False]\n"
     ]
    }
   ],
   "source": [
    "print(b<2)"
   ]
  },
  {
   "cell_type": "code",
   "execution_count": 5,
   "metadata": {},
   "outputs": [
    {
     "name": "stdout",
     "output_type": "stream",
     "text": [
      "[False False  True]\n"
     ]
    }
   ],
   "source": [
    "print(b==2)"
   ]
  },
  {
   "cell_type": "markdown",
   "metadata": {},
   "source": [
    "當我們想將兩個 array 做矩陣的運算時，如果利用 `*` 作為運算子，而結果只是**將 index 對應的位置做相乘**："
   ]
  },
  {
   "cell_type": "code",
   "execution_count": 6,
   "metadata": {},
   "outputs": [
    {
     "name": "stdout",
     "output_type": "stream",
     "text": [
      "[[0 1]\n",
      " [0 3]]\n"
     ]
    }
   ],
   "source": [
    "c = np.array([[1,1],[0,1]])\n",
    "d = np.arange(4).reshape(2,2)\n",
    "\n",
    "print(c*d)"
   ]
  },
  {
   "cell_type": "markdown",
   "metadata": {},
   "source": [
    "如果想要運用**矩陣乘法**，則要使用 `numpy.dot(a, b, out=None)`:"
   ]
  },
  {
   "cell_type": "code",
   "execution_count": 7,
   "metadata": {},
   "outputs": [
    {
     "name": "stdout",
     "output_type": "stream",
     "text": [
      "[[2 4]\n",
      " [2 3]]\n"
     ]
    }
   ],
   "source": [
    "print(np.dot(c, d))    # 矩陣乘法"
   ]
  },
  {
   "cell_type": "code",
   "execution_count": 8,
   "metadata": {},
   "outputs": [
    {
     "name": "stdout",
     "output_type": "stream",
     "text": [
      "[[2 4]\n",
      " [2 3]]\n"
     ]
    }
   ],
   "source": [
    "print(c.dot(d))    # 矩陣乘法"
   ]
  },
  {
   "cell_type": "code",
   "execution_count": 9,
   "metadata": {},
   "outputs": [
    {
     "name": "stdout",
     "output_type": "stream",
     "text": [
      "[[ 0.44913583  0.70066825  0.43574993  0.87878235]\n",
      " [ 0.94515693  0.26791129  0.38068101  0.65099086]]\n",
      "sum: [ 2.46433636  2.2447401 ]\n",
      "max: [ 0.44913583  0.26791129  0.38068101  0.65099086]\n",
      "min: [ 0.87878235  0.94515693]\n"
     ]
    }
   ],
   "source": [
    "random_array = np.random.random((2,4))     # 創建值 0 ~ 1 的陣列\n",
    "print(random_array)\n",
    "\n",
    "# axis可設定為 0 或 1，當 axis 的值為 0 時，以行為基準，反之，當 axis 的值為 1 時，以列為基礎\n",
    "print('sum:', np.sum(random_array, axis=1))    \n",
    "print('max:', np.min(random_array, axis=0))\n",
    "print('min:', np.max(random_array, axis=1))"
   ]
  }
 ],
 "metadata": {
  "kernelspec": {
   "display_name": "Python 3",
   "language": "python",
   "name": "python3"
  },
  "language_info": {
   "codemirror_mode": {
    "name": "ipython",
    "version": 3
   },
   "file_extension": ".py",
   "mimetype": "text/x-python",
   "name": "python",
   "nbconvert_exporter": "python",
   "pygments_lexer": "ipython3",
   "version": "3.6.3"
  }
 },
 "nbformat": 4,
 "nbformat_minor": 2
}
